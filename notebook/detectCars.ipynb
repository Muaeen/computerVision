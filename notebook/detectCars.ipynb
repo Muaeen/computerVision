{
 "cells": [
  {
   "cell_type": "code",
   "execution_count": 116,
   "metadata": {},
   "outputs": [],
   "source": [
    "from scipy.io import loadmat\n",
    "from torch.utils.data import Dataset, DataLoader\n",
    "from torchvision import transforms\n",
    "from PIL import Image\n",
    "import os\n",
    "import pandas as pd\n",
    "\n",
    "import torch.nn as nn\n",
    "import torch.nn.functional as F\n",
    "\n",
    "import torch\n",
    "from torchvision import transforms\n",
    "\n",
    "import os, time, random\n",
    "import numpy as np\n",
    "import pandas as pd\n",
    "import cv2, torch\n",
    "from tqdm.auto import tqdm\n",
    "import shutil as sh\n",
    "\n",
    "from IPython.display import Image, clear_output\n",
    "import matplotlib.pyplot as plt\n",
    "%matplotlib inline"
   ]
  },
  {
   "cell_type": "code",
   "execution_count": 117,
   "metadata": {},
   "outputs": [
    {
     "name": "stdout",
     "output_type": "stream",
     "text": [
      "[(array(['car_ims/000001.jpg'], dtype='<U18'), array([[112]], dtype=uint8), array([[7]], dtype=uint8), array([[853]], dtype=uint16), array([[717]], dtype=uint16), array([[1]], dtype=uint8), array([[0]], dtype=uint8))\n",
      " (array(['car_ims/000002.jpg'], dtype='<U18'), array([[48]], dtype=uint8), array([[24]], dtype=uint8), array([[441]], dtype=uint16), array([[202]], dtype=uint8), array([[1]], dtype=uint8), array([[0]], dtype=uint8))\n",
      " (array(['car_ims/000003.jpg'], dtype='<U18'), array([[7]], dtype=uint8), array([[4]], dtype=uint8), array([[277]], dtype=uint16), array([[180]], dtype=uint8), array([[1]], dtype=uint8), array([[0]], dtype=uint8))\n",
      " ...\n",
      " (array(['car_ims/016183.jpg'], dtype='<U18'), array([[25]], dtype=uint8), array([[32]], dtype=uint8), array([[587]], dtype=uint16), array([[359]], dtype=uint16), array([[196]], dtype=uint8), array([[1]], dtype=uint8))\n",
      " (array(['car_ims/016184.jpg'], dtype='<U18'), array([[56]], dtype=uint8), array([[60]], dtype=uint8), array([[208]], dtype=uint8), array([[186]], dtype=uint8), array([[196]], dtype=uint8), array([[1]], dtype=uint8))\n",
      " (array(['car_ims/016185.jpg'], dtype='<U18'), array([[1]], dtype=uint8), array([[1]], dtype=uint8), array([[200]], dtype=uint8), array([[131]], dtype=uint8), array([[196]], dtype=uint8), array([[1]], dtype=uint8))]\n"
     ]
    }
   ],
   "source": [
    "mat_path = \"/Users/ahmedalmaqbali/Desktop/Muaeen/Rihal/intern/repo/computerVision/img/cars_annos.mat\"\n",
    "car_train_path = \"/Users/ahmedalmaqbali/Desktop/Muaeen/Rihal/intern/repo/computerVision/img/cars_train/cars_train\"\n",
    "car_test_path = \"/Users/ahmedalmaqbali/Desktop/Muaeen/Rihal/intern/repo/computerVision/img/cars_test/cars_test\"\n",
    "# Load the .mat file\n",
    "mat = loadmat(mat_path)\n",
    "\n",
    "# Access data\n",
    "# Assuming 'annotations' is a key in the .mat file\n",
    "annotations = mat['annotations']\n",
    "\n",
    "# Do something with the data\n",
    "# For example, print the first item in the annotations\n",
    "print(annotations[0])\n"
   ]
  },
  {
   "cell_type": "code",
   "execution_count": 118,
   "metadata": {},
   "outputs": [
    {
     "name": "stdout",
     "output_type": "stream",
     "text": [
      "dict_keys(['__header__', '__version__', '__globals__', 'annotations', 'class_names'])\n"
     ]
    }
   ],
   "source": [
    "print(mat.keys())\n"
   ]
  },
  {
   "cell_type": "code",
   "execution_count": 119,
   "metadata": {},
   "outputs": [
    {
     "data": {
      "text/plain": [
       "({'Type': numpy.ndarray,\n",
       "  'Shape': (1, 16185),\n",
       "  'First Element': array([(array(['car_ims/000001.jpg'], dtype='<U18'), array([[112]], dtype=uint8), array([[7]], dtype=uint8), array([[853]], dtype=uint16), array([[717]], dtype=uint16), array([[1]], dtype=uint8), array([[0]], dtype=uint8)),\n",
       "         (array(['car_ims/000002.jpg'], dtype='<U18'), array([[48]], dtype=uint8), array([[24]], dtype=uint8), array([[441]], dtype=uint16), array([[202]], dtype=uint8), array([[1]], dtype=uint8), array([[0]], dtype=uint8)),\n",
       "         (array(['car_ims/000003.jpg'], dtype='<U18'), array([[7]], dtype=uint8), array([[4]], dtype=uint8), array([[277]], dtype=uint16), array([[180]], dtype=uint8), array([[1]], dtype=uint8), array([[0]], dtype=uint8)),\n",
       "         ...,\n",
       "         (array(['car_ims/016183.jpg'], dtype='<U18'), array([[25]], dtype=uint8), array([[32]], dtype=uint8), array([[587]], dtype=uint16), array([[359]], dtype=uint16), array([[196]], dtype=uint8), array([[1]], dtype=uint8)),\n",
       "         (array(['car_ims/016184.jpg'], dtype='<U18'), array([[56]], dtype=uint8), array([[60]], dtype=uint8), array([[208]], dtype=uint8), array([[186]], dtype=uint8), array([[196]], dtype=uint8), array([[1]], dtype=uint8)),\n",
       "         (array(['car_ims/016185.jpg'], dtype='<U18'), array([[1]], dtype=uint8), array([[1]], dtype=uint8), array([[200]], dtype=uint8), array([[131]], dtype=uint8), array([[196]], dtype=uint8), array([[1]], dtype=uint8))],\n",
       "        dtype=[('relative_im_path', 'O'), ('bbox_x1', 'O'), ('bbox_y1', 'O'), ('bbox_x2', 'O'), ('bbox_y2', 'O'), ('class', 'O'), ('test', 'O')])},\n",
       " {'Type': numpy.ndarray,\n",
       "  'Shape': (1, 5),\n",
       "  'First Few Names': array([[array(['AM General Hummer SUV 2000'], dtype='<U26'),\n",
       "          array(['Acura RL Sedan 2012'], dtype='<U19'),\n",
       "          array(['Acura TL Sedan 2012'], dtype='<U19'),\n",
       "          array(['Acura TL Type-S 2008'], dtype='<U20'),\n",
       "          array(['Acura TSX Sedan 2012'], dtype='<U20')]], dtype=object)})"
      ]
     },
     "execution_count": 119,
     "metadata": {},
     "output_type": "execute_result"
    }
   ],
   "source": [
    "# Extract and print the first few annotations and class names to understand their structure\n",
    "\n",
    "# Annotations\n",
    "annotations_sample = mat['annotations'][:5]\n",
    "\n",
    "# Class names\n",
    "class_names_sample = mat['class_names'][:, :5]\n",
    "\n",
    "# Since the structure of annotations and class_names might be complex, let's just print out their shapes or descriptions first\n",
    "annotations_sample_description = {\n",
    "    \"Type\": type(annotations_sample),\n",
    "    \"Shape\": annotations_sample.shape,\n",
    "    \"First Element\": annotations_sample[0]\n",
    "}\n",
    "\n",
    "class_names_sample_description = {\n",
    "    \"Type\": type(class_names_sample),\n",
    "    \"Shape\": class_names_sample.shape,\n",
    "    \"First Few Names\": class_names_sample[:, :5]\n",
    "}\n",
    "\n",
    "annotations_sample_description, class_names_sample_description\n"
   ]
  },
  {
   "cell_type": "code",
   "execution_count": 120,
   "metadata": {},
   "outputs": [],
   "source": [
    "from PIL import Image\n",
    "\n",
    "def get_image_dimensions(image_path):\n",
    "    with Image.open(image_path) as img:\n",
    "        width, height = img.size\n",
    "    return width, height\n"
   ]
  },
  {
   "cell_type": "code",
   "execution_count": 121,
   "metadata": {},
   "outputs": [],
   "source": [
    "import scipy.io\n",
    "import os\n",
    "\n",
    "def convert_mat_to_yolo(mat_file_path, output_dir):\n",
    "    # Load .mat file\n",
    "    mat = scipy.io.loadmat(mat_file_path)\n",
    "    annotations = mat['annotations']  # This might vary depending on your .mat file structure\n",
    "    # Ensure output directory exists\n",
    "    os.makedirs(output_dir, exist_ok=True)\n",
    "\n",
    "    for annotation in annotations:\n",
    "        filename = annotation['filename'][0]\n",
    "        bbox_x1 = annotation['bbox_x1'][0]\n",
    "        bbox_y1 = annotation['bbox_y1'][0]\n",
    "        bbox_x2 = annotation['bbox_x2'][0]\n",
    "        bbox_y2 = annotation['bbox_y2'][0]\n",
    "        class_id = 0  # Assuming you have only one class, cars. Adjust if you have multiple classes.\n",
    "\n",
    "        # Convert bbox coordinates to YOLO format (x_center, y_center, width, height)\n",
    "        x_center = ((bbox_x2 + bbox_x1) / 2) / width  # You need to have the image width\n",
    "        y_center = ((bbox_y2 + bbox_y1) / 2) / height  # You need to have the image height\n",
    "        width = (bbox_x2 - bbox_x1) / width\n",
    "        height = (bbox_y2 - bbox_y1) / height\n",
    "\n",
    "        # Write to a new text file for each image\n",
    "        with open(os.path.join(output_dir, filename.replace('.jpg', '.txt')), 'w') as f:\n",
    "            f.write(f\"{class_id} {x_center} {y_center} {width} {height}\\n\")\n"
   ]
  },
  {
   "cell_type": "code",
   "execution_count": 122,
   "metadata": {},
   "outputs": [
    {
     "name": "stdout",
     "output_type": "stream",
     "text": [
      "Data saved to /Users/ahmedalmaqbali/Desktop/Muaeen/Rihal/intern/repo/computerVision/data/cars_annotations.csv\n"
     ]
    }
   ],
   "source": [
    "# Load the .mat file\n",
    "mat = loadmat(mat_path)\n",
    "\n",
    "# Assuming the data structure is a dictionary with keys corresponding to variable names in MATLAB,\n",
    "# and you are interested in a specific key for the data. Let's say the key is 'annotations':\n",
    "# Note: Adjust the 'annotations' key according to the actual structure of your .mat file\n",
    "\n",
    "# Extract the data under 'annotations' or the relevant key\n",
    "annotations = mat['annotations']  # Adjust 'annotations' as necessary\n",
    "\n",
    "# Convert the annotations to a list of dictionaries for easier DataFrame conversion\n",
    "# This step depends on the structure of 'annotations'. Assuming it's a structured array:\n",
    "data = []\n",
    "for annotation in annotations[0]:\n",
    "    data.append({\n",
    "        'fname': annotation[0][0],  # Adjust field names as necessary\n",
    "        'bbox_x1': annotation[1][0][0],\n",
    "        'bbox_y1': annotation[2][0][0],\n",
    "        'bbox_x2': annotation[3][0][0],\n",
    "        'bbox_y2': annotation[4][0][0],\n",
    "        'class': annotation[5][0][0],\n",
    "        'test': annotation[6][0][0]  # This field might represent whether the image is for testing or not\n",
    "    })\n",
    "\n",
    "# Create a DataFrame\n",
    "df = pd.DataFrame(data)\n",
    "\n",
    "# Save the DataFrame to a CSV file\n",
    "csv_file_path = '/Users/ahmedalmaqbali/Desktop/Muaeen/Rihal/intern/repo/computerVision/data/cars_annotations.csv'\n",
    "df.to_csv(csv_file_path, index=False)\n",
    "\n",
    "print(f'Data saved to {csv_file_path}')\n"
   ]
  },
  {
   "cell_type": "code",
   "execution_count": 123,
   "metadata": {},
   "outputs": [
    {
     "data": {
      "text/html": [
       "<div>\n",
       "<style scoped>\n",
       "    .dataframe tbody tr th:only-of-type {\n",
       "        vertical-align: middle;\n",
       "    }\n",
       "\n",
       "    .dataframe tbody tr th {\n",
       "        vertical-align: top;\n",
       "    }\n",
       "\n",
       "    .dataframe thead th {\n",
       "        text-align: right;\n",
       "    }\n",
       "</style>\n",
       "<table border=\"1\" class=\"dataframe\">\n",
       "  <thead>\n",
       "    <tr style=\"text-align: right;\">\n",
       "      <th></th>\n",
       "      <th>fname</th>\n",
       "      <th>bbox_x1</th>\n",
       "      <th>bbox_y1</th>\n",
       "      <th>bbox_x2</th>\n",
       "      <th>bbox_y2</th>\n",
       "      <th>class</th>\n",
       "      <th>test</th>\n",
       "    </tr>\n",
       "  </thead>\n",
       "  <tbody>\n",
       "    <tr>\n",
       "      <th>0</th>\n",
       "      <td>car_ims/000001.jpg</td>\n",
       "      <td>112</td>\n",
       "      <td>7</td>\n",
       "      <td>853</td>\n",
       "      <td>717</td>\n",
       "      <td>1</td>\n",
       "      <td>0</td>\n",
       "    </tr>\n",
       "    <tr>\n",
       "      <th>1</th>\n",
       "      <td>car_ims/000002.jpg</td>\n",
       "      <td>48</td>\n",
       "      <td>24</td>\n",
       "      <td>441</td>\n",
       "      <td>202</td>\n",
       "      <td>1</td>\n",
       "      <td>0</td>\n",
       "    </tr>\n",
       "    <tr>\n",
       "      <th>2</th>\n",
       "      <td>car_ims/000003.jpg</td>\n",
       "      <td>7</td>\n",
       "      <td>4</td>\n",
       "      <td>277</td>\n",
       "      <td>180</td>\n",
       "      <td>1</td>\n",
       "      <td>0</td>\n",
       "    </tr>\n",
       "    <tr>\n",
       "      <th>3</th>\n",
       "      <td>car_ims/000004.jpg</td>\n",
       "      <td>33</td>\n",
       "      <td>50</td>\n",
       "      <td>197</td>\n",
       "      <td>150</td>\n",
       "      <td>1</td>\n",
       "      <td>0</td>\n",
       "    </tr>\n",
       "    <tr>\n",
       "      <th>4</th>\n",
       "      <td>car_ims/000005.jpg</td>\n",
       "      <td>5</td>\n",
       "      <td>8</td>\n",
       "      <td>83</td>\n",
       "      <td>58</td>\n",
       "      <td>1</td>\n",
       "      <td>0</td>\n",
       "    </tr>\n",
       "    <tr>\n",
       "      <th>...</th>\n",
       "      <td>...</td>\n",
       "      <td>...</td>\n",
       "      <td>...</td>\n",
       "      <td>...</td>\n",
       "      <td>...</td>\n",
       "      <td>...</td>\n",
       "      <td>...</td>\n",
       "    </tr>\n",
       "    <tr>\n",
       "      <th>16180</th>\n",
       "      <td>car_ims/016181.jpg</td>\n",
       "      <td>38</td>\n",
       "      <td>36</td>\n",
       "      <td>375</td>\n",
       "      <td>234</td>\n",
       "      <td>196</td>\n",
       "      <td>1</td>\n",
       "    </tr>\n",
       "    <tr>\n",
       "      <th>16181</th>\n",
       "      <td>car_ims/016182.jpg</td>\n",
       "      <td>29</td>\n",
       "      <td>34</td>\n",
       "      <td>235</td>\n",
       "      <td>164</td>\n",
       "      <td>196</td>\n",
       "      <td>1</td>\n",
       "    </tr>\n",
       "    <tr>\n",
       "      <th>16182</th>\n",
       "      <td>car_ims/016183.jpg</td>\n",
       "      <td>25</td>\n",
       "      <td>32</td>\n",
       "      <td>587</td>\n",
       "      <td>359</td>\n",
       "      <td>196</td>\n",
       "      <td>1</td>\n",
       "    </tr>\n",
       "    <tr>\n",
       "      <th>16183</th>\n",
       "      <td>car_ims/016184.jpg</td>\n",
       "      <td>56</td>\n",
       "      <td>60</td>\n",
       "      <td>208</td>\n",
       "      <td>186</td>\n",
       "      <td>196</td>\n",
       "      <td>1</td>\n",
       "    </tr>\n",
       "    <tr>\n",
       "      <th>16184</th>\n",
       "      <td>car_ims/016185.jpg</td>\n",
       "      <td>1</td>\n",
       "      <td>1</td>\n",
       "      <td>200</td>\n",
       "      <td>131</td>\n",
       "      <td>196</td>\n",
       "      <td>1</td>\n",
       "    </tr>\n",
       "  </tbody>\n",
       "</table>\n",
       "<p>16185 rows × 7 columns</p>\n",
       "</div>"
      ],
      "text/plain": [
       "                    fname  bbox_x1  bbox_y1  bbox_x2  bbox_y2  class  test\n",
       "0      car_ims/000001.jpg      112        7      853      717      1     0\n",
       "1      car_ims/000002.jpg       48       24      441      202      1     0\n",
       "2      car_ims/000003.jpg        7        4      277      180      1     0\n",
       "3      car_ims/000004.jpg       33       50      197      150      1     0\n",
       "4      car_ims/000005.jpg        5        8       83       58      1     0\n",
       "...                   ...      ...      ...      ...      ...    ...   ...\n",
       "16180  car_ims/016181.jpg       38       36      375      234    196     1\n",
       "16181  car_ims/016182.jpg       29       34      235      164    196     1\n",
       "16182  car_ims/016183.jpg       25       32      587      359    196     1\n",
       "16183  car_ims/016184.jpg       56       60      208      186    196     1\n",
       "16184  car_ims/016185.jpg        1        1      200      131    196     1\n",
       "\n",
       "[16185 rows x 7 columns]"
      ]
     },
     "execution_count": 123,
     "metadata": {},
     "output_type": "execute_result"
    }
   ],
   "source": [
    "df"
   ]
  },
  {
   "cell_type": "code",
   "execution_count": 124,
   "metadata": {},
   "outputs": [
    {
     "name": "stdout",
     "output_type": "stream",
     "text": [
      "<class 'pandas.core.frame.DataFrame'>\n",
      "RangeIndex: 16185 entries, 0 to 16184\n",
      "Data columns (total 7 columns):\n",
      " #   Column   Non-Null Count  Dtype \n",
      "---  ------   --------------  ----- \n",
      " 0   fname    16185 non-null  object\n",
      " 1   bbox_x1  16185 non-null  uint16\n",
      " 2   bbox_y1  16185 non-null  uint16\n",
      " 3   bbox_x2  16185 non-null  uint16\n",
      " 4   bbox_y2  16185 non-null  uint16\n",
      " 5   class    16185 non-null  uint8 \n",
      " 6   test     16185 non-null  uint8 \n",
      "dtypes: object(1), uint16(4), uint8(2)\n",
      "memory usage: 284.6+ KB\n"
     ]
    }
   ],
   "source": [
    "df.info()"
   ]
  },
  {
   "cell_type": "code",
   "execution_count": 143,
   "metadata": {},
   "outputs": [],
   "source": [
    "df2 = df.copy()"
   ]
  },
  {
   "cell_type": "code",
   "execution_count": 144,
   "metadata": {},
   "outputs": [],
   "source": [
    "# Define a function to adjust the filename\n",
    "def adjust_filename(fname):\n",
    "    # Remove the directory path\n",
    "    filename = fname.split('/')[-1]\n",
    "    # Check if the filename starts with a zero and remove the first zero\n",
    "    if filename.startswith('0'):\n",
    "        filename = filename[1:]\n",
    "    return filename\n",
    "\n",
    "# Apply the function to adjust the fname column\n",
    "df2['fname'] = df2['fname'].apply(adjust_filename)\n",
    "\n",
    "# Change the fname column type to object\n",
    "df2['fname'] = df2['fname'].astype('object')\n"
   ]
  },
  {
   "cell_type": "code",
   "execution_count": 145,
   "metadata": {},
   "outputs": [
    {
     "name": "stdout",
     "output_type": "stream",
     "text": [
      "Image ID: 06404.jpg\n",
      "Attempting to load: /Users/ahmedalmaqbali/Desktop/Muaeen/Rihal/intern/repo/computerVision/img/cars_train/cars_train/06404.jpg.jpg\n",
      "File does not exist at the specified path: /Users/ahmedalmaqbali/Desktop/Muaeen/Rihal/intern/repo/computerVision/img/cars_train/cars_train/06404.jpg.jpg\n"
     ]
    }
   ],
   "source": [
    "# Assuming df is your DataFrame and contains a column 'fname' with filenames\n",
    "index = list(set(df2['fname']))\n",
    "image = random.choice(index)\n",
    "image_path = f'/Users/ahmedalmaqbali/Desktop/Muaeen/Rihal/intern/repo/computerVision/img/cars_train/cars_train/{image}.jpg'  # Update the path accordingly\n",
    "\n",
    "print(\"Image ID:\", image)\n",
    "print(\"Attempting to load:\", image_path)\n",
    "\n",
    "# Check if the file exists\n",
    "if os.path.exists(image_path):\n",
    "    img = cv2.imread(image_path)\n",
    "    if img is not None:\n",
    "        print(\"Image shape:\", img.shape)\n",
    "    else:\n",
    "        print(\"Failed to load image. cv2.imread() returned None.\")\n",
    "else:\n",
    "    print(\"File does not exist at the specified path:\", image_path)"
   ]
  },
  {
   "cell_type": "code",
   "execution_count": null,
   "metadata": {},
   "outputs": [],
   "source": []
  }
 ],
 "metadata": {
  "kernelspec": {
   "display_name": "computerV",
   "language": "python",
   "name": "python3"
  },
  "language_info": {
   "codemirror_mode": {
    "name": "ipython",
    "version": 3
   },
   "file_extension": ".py",
   "mimetype": "text/x-python",
   "name": "python",
   "nbconvert_exporter": "python",
   "pygments_lexer": "ipython3",
   "version": "3.11.7"
  }
 },
 "nbformat": 4,
 "nbformat_minor": 2
}
